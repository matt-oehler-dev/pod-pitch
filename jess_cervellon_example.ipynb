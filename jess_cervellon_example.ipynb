{
 "cells": [
  {
   "attachments": {},
   "cell_type": "markdown",
   "metadata": {},
   "source": [
    "### Example for Jess Cervellon"
   ]
  },
  {
   "cell_type": "code",
   "execution_count": 9,
   "metadata": {},
   "outputs": [],
   "source": [
    "import time\n",
    "import json\n",
    "\n",
    "import gspread\n",
    "from oauth2client.service_account import ServiceAccountCredentials\n",
    "\n",
    "import pandas as pd\n",
    "pd.options.display.max_columns=None\n",
    "\n",
    "import openai"
   ]
  },
  {
   "cell_type": "code",
   "execution_count": 10,
   "metadata": {},
   "outputs": [],
   "source": [
    "# helper function for adding output to sheet\n",
    "# write the results to a new tab on the google sheet\n",
    "def empty_sheet(sheet):\n",
    "    sheet_values = sheet.get_values()\n",
    "    sheet_df = pd.DataFrame(sheet_values[1:], columns=sheet_values[0])\n",
    "\n",
    "    # remove the current data in the sheet\n",
    "    eraser = sheet_df.copy()\n",
    "    for c in eraser.columns:\n",
    "        eraser[c] = \"\"\n",
    "    sheet.update([eraser.columns.values.tolist()] + eraser.values.tolist())\n",
    "    return\n",
    "\n",
    "# helper function to get gpt response\n",
    "def get_gpt_response(prompt):\n",
    "    response = openai.ChatCompletion.create(\n",
    "        model=\"gpt-3.5-turbo\",\n",
    "        messages=[{\"role\":\"user\", \"content\": prompt}]\n",
    "        \n",
    "    )\n",
    "    return response"
   ]
  },
  {
   "cell_type": "code",
   "execution_count": 11,
   "metadata": {},
   "outputs": [
    {
     "name": "stdout",
     "output_type": "stream",
     "text": [
      "First part of key is: sk-HJ\n"
     ]
    }
   ],
   "source": [
    "# set open api key\n",
    "with open(\"secrets.json\") as f:\n",
    "    secrets = json.load(f)\n",
    "\n",
    "if key := secrets.get(\"open_ai_api_key_neal\"):\n",
    "    openai.api_key = key\n",
    "    print(f\"First part of key is: {key[:5]}\")\n",
    "else:\n",
    "    print(f\"Error. Key is {key}\")\n",
    "    \n"
   ]
  },
  {
   "cell_type": "code",
   "execution_count": 12,
   "metadata": {},
   "outputs": [
    {
     "data": {
      "text/plain": [
       "<Spreadsheet 'Example Data' id:11TGIZt-HsifcuNV9dZ2X-wIaLbyAer9nyA_E1nsm6lY>"
      ]
     },
     "execution_count": 12,
     "metadata": {},
     "output_type": "execute_result"
    }
   ],
   "source": [
    "gc = gspread.service_account(filename=\"./pod-pitch-credentials.json\")\n",
    "podcast_google_sheet = gc.open_by_key(\"11TGIZt-HsifcuNV9dZ2X-wIaLbyAer9nyA_E1nsm6lY\")\n",
    "podcast_google_sheet"
   ]
  },
  {
   "cell_type": "code",
   "execution_count": 13,
   "metadata": {},
   "outputs": [],
   "source": [
    "prompt_context_sheet = podcast_google_sheet.get_worksheet_by_id(\"1745698936\").get_all_records()\n",
    "# prompt_context_sheet"
   ]
  },
  {
   "cell_type": "code",
   "execution_count": 14,
   "metadata": {},
   "outputs": [
    {
     "name": "stdout",
     "output_type": "stream",
     "text": [
      "(626, 6)\n"
     ]
    },
    {
     "data": {
      "text/html": [
       "<div>\n",
       "<style scoped>\n",
       "    .dataframe tbody tr th:only-of-type {\n",
       "        vertical-align: middle;\n",
       "    }\n",
       "\n",
       "    .dataframe tbody tr th {\n",
       "        vertical-align: top;\n",
       "    }\n",
       "\n",
       "    .dataframe thead th {\n",
       "        text-align: right;\n",
       "    }\n",
       "</style>\n",
       "<table border=\"1\" class=\"dataframe\">\n",
       "  <thead>\n",
       "    <tr style=\"text-align: right;\">\n",
       "      <th></th>\n",
       "      <th>Podcast Title</th>\n",
       "      <th>Podcast Description</th>\n",
       "      <th>Podcast Host</th>\n",
       "      <th>Recent Episode Title</th>\n",
       "      <th>Recent Episode Description</th>\n",
       "      <th>Email Example 1</th>\n",
       "    </tr>\n",
       "  </thead>\n",
       "  <tbody>\n",
       "    <tr>\n",
       "      <th>0</th>\n",
       "      <td>Barcelona Virtual European Marketing Podcast</td>\n",
       "      <td>· · · The Barcelona Virtual European Marketing...</td>\n",
       "      <td>By Barcelona Virtual</td>\n",
       "      <td>S05 E05 - Women &amp; e-Commerce · Gemma Cernuda ·...</td>\n",
       "      <td>A new study shows, once again, the power women...</td>\n",
       "      <td>\"Hey! \\n\\nBeen a lurking fan for a while - dec...</td>\n",
       "    </tr>\n",
       "    <tr>\n",
       "      <th>1</th>\n",
       "      <td>Christian CEO Podcast with Kelly Baader</td>\n",
       "      <td>\" Kelly is the 'professional leader' personifi...</td>\n",
       "      <td>By Kelly Baader\\n\\nkellybaader.com</td>\n",
       "      <td>Marketing Strategies For Self Published Authors</td>\n",
       "      <td>#197: Are you a self-published author or about...</td>\n",
       "      <td>\"Hey! \\n\\nBeen a lurking fan for a while - dec...</td>\n",
       "    </tr>\n",
       "    <tr>\n",
       "      <th>2</th>\n",
       "      <td>A Shark's Perspective</td>\n",
       "      <td>“A Shark’s Perspective” is the podcast with th...</td>\n",
       "      <td>By Kenneth Kinney\\n\\nasharksperspective.com</td>\n",
       "      <td>#375 - How to Connect CX to Loyalty</td>\n",
       "      <td>Conversation with Patrick Henry, the President...</td>\n",
       "      <td>\"Hey! \\n\\nBeen a lurking fan for a while - dec...</td>\n",
       "    </tr>\n",
       "    <tr>\n",
       "      <th>3</th>\n",
       "      <td>Beyond Markets</td>\n",
       "      <td>“Beyond Markets” by Julius Baer is a series fe...</td>\n",
       "      <td>By Julius Baer</td>\n",
       "      <td>Digital Assets - The Bitcoin ETF Saga</td>\n",
       "      <td>What could a physically backed Exchange Traded...</td>\n",
       "      <td>\"Hey! \\n\\nBeen a lurking fan for a while - dec...</td>\n",
       "    </tr>\n",
       "    <tr>\n",
       "      <th>4</th>\n",
       "      <td>Jagged with Jasravee : Cutting-Edge Marketing ...</td>\n",
       "      <td>“Creative thinking takes place neither inside ...</td>\n",
       "      <td>By Jasravee Kaur Chandra</td>\n",
       "      <td>Ep 109 : Peter Fader on Leveraging CLV and a C...</td>\n",
       "      <td>How do you define customer centricity? What it...</td>\n",
       "      <td>\"Hey! \\n\\nBeen a lurking fan for a while - dec...</td>\n",
       "    </tr>\n",
       "    <tr>\n",
       "      <th>5</th>\n",
       "      <td>From The Blockchain</td>\n",
       "      <td>“From The Blockchain\" brings you today’s most ...</td>\n",
       "      <td>By Ashley Smith</td>\n",
       "      <td>Club Memberships on Blockchain and Tech Innova...</td>\n",
       "      <td>Welcome to another episode of From the Blockch...</td>\n",
       "      <td>\"Hey! \\n\\nBeen a lurking fan for a while - dec...</td>\n",
       "    </tr>\n",
       "    <tr>\n",
       "      <th>6</th>\n",
       "      <td>B2B Marketing &amp; Copywriting</td>\n",
       "      <td>\"How can we increase conversions?\" From signin...</td>\n",
       "      <td>By Linda Melone</td>\n",
       "      <td>Using Humor to Boost Trust &amp; Engagement</td>\n",
       "      <td>Why so serious? B2B businesses often shy away ...</td>\n",
       "      <td>\"Hey! \\n\\nBeen a lurking fan for a while - dec...</td>\n",
       "    </tr>\n",
       "  </tbody>\n",
       "</table>\n",
       "</div>"
      ],
      "text/plain": [
       "                                       Podcast Title  \\\n",
       "0       Barcelona Virtual European Marketing Podcast   \n",
       "1            Christian CEO Podcast with Kelly Baader   \n",
       "2                              A Shark's Perspective   \n",
       "3                                     Beyond Markets   \n",
       "4  Jagged with Jasravee : Cutting-Edge Marketing ...   \n",
       "5                                From The Blockchain   \n",
       "6                        B2B Marketing & Copywriting   \n",
       "\n",
       "                                 Podcast Description  \\\n",
       "0  · · · The Barcelona Virtual European Marketing...   \n",
       "1  \" Kelly is the 'professional leader' personifi...   \n",
       "2  “A Shark’s Perspective” is the podcast with th...   \n",
       "3  “Beyond Markets” by Julius Baer is a series fe...   \n",
       "4  “Creative thinking takes place neither inside ...   \n",
       "5  “From The Blockchain\" brings you today’s most ...   \n",
       "6  \"How can we increase conversions?\" From signin...   \n",
       "\n",
       "                                  Podcast Host  \\\n",
       "0                         By Barcelona Virtual   \n",
       "1           By Kelly Baader\\n\\nkellybaader.com   \n",
       "2  By Kenneth Kinney\\n\\nasharksperspective.com   \n",
       "3                               By Julius Baer   \n",
       "4                     By Jasravee Kaur Chandra   \n",
       "5                              By Ashley Smith   \n",
       "6                              By Linda Melone   \n",
       "\n",
       "                                Recent Episode Title  \\\n",
       "0  S05 E05 - Women & e-Commerce · Gemma Cernuda ·...   \n",
       "1    Marketing Strategies For Self Published Authors   \n",
       "2                #375 - How to Connect CX to Loyalty   \n",
       "3              Digital Assets - The Bitcoin ETF Saga   \n",
       "4  Ep 109 : Peter Fader on Leveraging CLV and a C...   \n",
       "5  Club Memberships on Blockchain and Tech Innova...   \n",
       "6            Using Humor to Boost Trust & Engagement   \n",
       "\n",
       "                          Recent Episode Description  \\\n",
       "0  A new study shows, once again, the power women...   \n",
       "1  #197: Are you a self-published author or about...   \n",
       "2  Conversation with Patrick Henry, the President...   \n",
       "3  What could a physically backed Exchange Traded...   \n",
       "4  How do you define customer centricity? What it...   \n",
       "5  Welcome to another episode of From the Blockch...   \n",
       "6  Why so serious? B2B businesses often shy away ...   \n",
       "\n",
       "                                     Email Example 1  \n",
       "0  \"Hey! \\n\\nBeen a lurking fan for a while - dec...  \n",
       "1  \"Hey! \\n\\nBeen a lurking fan for a while - dec...  \n",
       "2  \"Hey! \\n\\nBeen a lurking fan for a while - dec...  \n",
       "3  \"Hey! \\n\\nBeen a lurking fan for a while - dec...  \n",
       "4  \"Hey! \\n\\nBeen a lurking fan for a while - dec...  \n",
       "5  \"Hey! \\n\\nBeen a lurking fan for a while - dec...  \n",
       "6  \"Hey! \\n\\nBeen a lurking fan for a while - dec...  "
      ]
     },
     "execution_count": 14,
     "metadata": {},
     "output_type": "execute_result"
    }
   ],
   "source": [
    "# load it into pandas\n",
    "podcast_df = pd.DataFrame(prompt_context_sheet)\n",
    "\n",
    "podcast_df['generated_subject_line'] = \"\"\n",
    "podcast_df['generated_email_body'] = \"\"\n",
    "podcast_df['raw_subject_response'] = \"\"\n",
    "podcast_df['raw_email_response'] = \"\"\n",
    "\n",
    "print(podcast_df.shape)\n",
    "podcast_df.head(7)"
   ]
  },
  {
   "cell_type": "code",
   "execution_count": 15,
   "metadata": {},
   "outputs": [
    {
     "name": "stdout",
     "output_type": "stream",
     "text": [
      "(1, 5)\n"
     ]
    },
    {
     "data": {
      "text/html": [
       "<div>\n",
       "<style scoped>\n",
       "    .dataframe tbody tr th:only-of-type {\n",
       "        vertical-align: middle;\n",
       "    }\n",
       "\n",
       "    .dataframe tbody tr th {\n",
       "        vertical-align: top;\n",
       "    }\n",
       "\n",
       "    .dataframe thead th {\n",
       "        text-align: right;\n",
       "    }\n",
       "</style>\n",
       "<table border=\"1\" class=\"dataframe\">\n",
       "  <thead>\n",
       "    <tr style=\"text-align: right;\">\n",
       "      <th></th>\n",
       "      <th>Client Name</th>\n",
       "      <th>Current Role</th>\n",
       "      <th>Scraped LinkedIn Experience</th>\n",
       "      <th>client_blurb</th>\n",
       "      <th>client_interview</th>\n",
       "    </tr>\n",
       "  </thead>\n",
       "  <tbody>\n",
       "    <tr>\n",
       "      <th>0</th>\n",
       "      <td>Jess Cervellon</td>\n",
       "      <td>Vice President, Customer Experience @ Feastabl...</td>\n",
       "      <td>Experience\\nFeastables logo\\nVP of Customer Ex...</td>\n",
       "      <td>Hey there! I'm Jessica Cervellon, the VP of Cu...</td>\n",
       "      <td>Jessica Cervellon  \\nYeah, I have four flower ...</td>\n",
       "    </tr>\n",
       "  </tbody>\n",
       "</table>\n",
       "</div>"
      ],
      "text/plain": [
       "      Client Name                                       Current Role  \\\n",
       "0  Jess Cervellon  Vice President, Customer Experience @ Feastabl...   \n",
       "\n",
       "                         Scraped LinkedIn Experience  \\\n",
       "0  Experience\\nFeastables logo\\nVP of Customer Ex...   \n",
       "\n",
       "                                        client_blurb  \\\n",
       "0  Hey there! I'm Jessica Cervellon, the VP of Cu...   \n",
       "\n",
       "                                    client_interview  \n",
       "0  Jessica Cervellon  \\nYeah, I have four flower ...  "
      ]
     },
     "execution_count": 15,
     "metadata": {},
     "output_type": "execute_result"
    }
   ],
   "source": [
    "client_info_sheet = podcast_google_sheet.get_worksheet_by_id(628119351).get_all_records()\n",
    "client_df = pd.DataFrame(client_info_sheet)\n",
    "\n",
    "client_row = client_df.iloc[0,:]\n",
    "\n",
    "print(client_df.shape)\n",
    "client_df.head()"
   ]
  },
  {
   "cell_type": "code",
   "execution_count": null,
   "metadata": {},
   "outputs": [],
   "source": [
    "# set up loop\n",
    "print(time.ctime())\n",
    "\n",
    "raw_email_responses = []\n",
    "raw_subject_responses = []\n",
    "email_bodies = []\n",
    "subject_lines = []\n",
    "for i, row in podcast_df.iterrows():\n",
    "    print(i)\n",
    "    try:\n",
    "        generated_email_response = \"\"\n",
    "        generated_subject_response = \"\"\n",
    "        email_body = \"\"\n",
    "        subject_line = \"\"\n",
    "        cold_email_prompt = f\"\"\"\n",
    "            I need help writing a cold email to help me get onto a podcast as a guest.\n",
    "            Please exclude the subject line & make sure the output isn't in parenthesis.\n",
    "            The objective of this email is to spark the hosts interest, make me memorable & start a conversation.\n",
    "            Follow best practices for high-converting emails & keep the email to less than 150 words.\n",
    "            Write an initial outreach email to the hosts of this podcast: {row['Podcast Host']}\n",
    "            For context to help personalize the email, the description of this podcast is:\\n {row['Podcast Description']}\\n\n",
    "            Please briefly reference something from a recent episode episode so they believe we listened to it.\n",
    "            The title of a recent episode is:\\n{row['Recent Episode Title']}\\n\n",
    "            The description of this episode is:\\n{row[\"Recent Episode Description\"]}\\n\n",
    "            Here is an example of an outreach message I've written before:\\n{row[\"Email Example 1\"]}\\n\n",
    "            Use the same fun and personable tone of voice from my example outreach message.\n",
    "            Here is a bit more info about me:\\n\\n\n",
    "            My name:\\n{client_row['Client Name']}\\n\n",
    "            My current role:\\n{client_row['Current Role']}\\n\n",
    "            My experience (as listed on LinkedIn):\\n{client_row['Scraped LinkedIn Experience']}\\n\n",
    "            A brief blurb about myself:\\n{client_row['client_blurb']}\\n\n",
    "            \"\"\"\n",
    "            # Here is the script of a 10 minute interview I had with someone:\\n{client_row['client_interview']}\\n\n",
    "            \n",
    "        # call to gpt\n",
    "        generated_email_response = get_gpt_response(cold_email_prompt)\n",
    "        email_body = generated_email_response['choices'][0]['message']['content']\n",
    "        time.sleep(5)\n",
    "        \n",
    "        subject_line_prompt = f\"\"\"\n",
    "            I just wrote a cold outreach email to convince a podcast host to interview me\n",
    "            on their show about my unique marketing strategies.\n",
    "            Write a subject line with the objective of getting the receiver to open the email\n",
    "            and keep reading. \n",
    "            Use a fun tone of voice. \n",
    "            Please do not include 'SUBJECT:' in the output. \n",
    "            Please make the output intriguing and unique. \n",
    "            Please make sure the output is at maximum 60 characters\n",
    "            Here is the body of the email: \\n{email_body}\\n\\n\n",
    "            \"\"\"\n",
    "        \n",
    "        # add a pause to avoid rate limit errors (might not be needed)\n",
    "        time.sleep(5)\n",
    "        \n",
    "        # call to gpt for subject line\n",
    "        generated_subject_response = get_gpt_response(subject_line_prompt)\n",
    "        subject_line = generated_subject_response['choices'][0]['message']['content']\n",
    "    except Exception as e:\n",
    "        print(f\"Error: {i}\")\n",
    "        print(str(e))\n",
    "\n",
    "\n",
    "    # save results\n",
    "    raw_email_responses.append(generated_email_response)\n",
    "    raw_subject_responses.append(generated_subject_response)\n",
    "    subject_lines.append(email_body)\n",
    "    email_bodies.append(subject_line)\n",
    "    \n",
    "    # if i % 50 == 0:\n",
    "    # print(i)\n",
    "    \n",
    "    # if i > 3:\n",
    "    #     break\n"
   ]
  },
  {
   "cell_type": "code",
   "execution_count": 28,
   "metadata": {},
   "outputs": [],
   "source": [
    "# subject_lines"
   ]
  },
  {
   "cell_type": "code",
   "execution_count": 18,
   "metadata": {},
   "outputs": [
    {
     "name": "stdout",
     "output_type": "stream",
     "text": [
      "Thu Oct 26 14:05:23 2023\n"
     ]
    },
    {
     "ename": "AssertionError",
     "evalue": "",
     "output_type": "error",
     "traceback": [
      "\u001b[0;31m---------------------------------------------------------------------------\u001b[0m",
      "\u001b[0;31mAssertionError\u001b[0m                            Traceback (most recent call last)",
      "Cell \u001b[0;32mIn[18], line 2\u001b[0m\n\u001b[1;32m      1\u001b[0m \u001b[39mprint\u001b[39m(time\u001b[39m.\u001b[39mctime())\n\u001b[0;32m----> 2\u001b[0m \u001b[39massert\u001b[39;00m \u001b[39mFalse\u001b[39;00m\n",
      "\u001b[0;31mAssertionError\u001b[0m: "
     ]
    }
   ],
   "source": [
    "print(time.ctime())\n"
   ]
  },
  {
   "cell_type": "code",
   "execution_count": 19,
   "metadata": {},
   "outputs": [],
   "source": [
    "podcast_df['generated_subject_line'] = subject_lines\n",
    "podcast_df['generated_email_body'] = email_bodies\n",
    "podcast_df['raw_subject_response'] = [str(x) for x in raw_subject_responses]\n",
    "podcast_df['raw_email_response'] = [str(x) for x in raw_subject_responses]\n",
    "\n",
    "podcast_df.to_csv(\"results.csv\", index=False)"
   ]
  },
  {
   "cell_type": "code",
   "execution_count": 20,
   "metadata": {},
   "outputs": [
    {
     "data": {
      "text/plain": [
       "<Worksheet 'output' id:350710360>"
      ]
     },
     "execution_count": 20,
     "metadata": {},
     "output_type": "execute_result"
    }
   ],
   "source": [
    "# output_sheet = podcast_google_sheet.get_worksheet(4)\n",
    "output_sheet = podcast_google_sheet.get_worksheet_by_id(350710360)\n",
    "output_sheet"
   ]
  },
  {
   "cell_type": "code",
   "execution_count": 29,
   "metadata": {},
   "outputs": [
    {
     "name": "stderr",
     "output_type": "stream",
     "text": [
      "/Users/inc/.pyenv/versions/3.11.0/envs/pod-pitch-venv/lib/python3.11/site-packages/gspread/worksheet.py:1069: UserWarning: [Deprecated][in version 6.0.0]: method signature will change to: 'Worksheet.update(value = [[]], range_name=)' arguments 'range_name' and 'values' will swap, values will be mandatory of type: 'list(list(...))'\n",
      "  warnings.warn(\n"
     ]
    }
   ],
   "source": [
    "empty_sheet(output_sheet)"
   ]
  },
  {
   "cell_type": "code",
   "execution_count": 31,
   "metadata": {},
   "outputs": [
    {
     "name": "stderr",
     "output_type": "stream",
     "text": [
      "/Users/inc/.pyenv/versions/3.11.0/envs/pod-pitch-venv/lib/python3.11/site-packages/gspread/worksheet.py:1069: UserWarning: [Deprecated][in version 6.0.0]: method signature will change to: 'Worksheet.update(value = [[]], range_name=)' arguments 'range_name' and 'values' will swap, values will be mandatory of type: 'list(list(...))'\n",
      "  warnings.warn(\n"
     ]
    }
   ],
   "source": [
    "# add new data to output tab of google sheet\n",
    "output_sheet.update([podcast_df.columns.values.tolist()] + podcast_df.values.tolist())"
   ]
  },
  {
   "cell_type": "code",
   "execution_count": null,
   "metadata": {},
   "outputs": [],
   "source": [
    "# end of main job. pause notebook\n",
    "assert False"
   ]
  },
  {
   "cell_type": "code",
   "execution_count": null,
   "metadata": {},
   "outputs": [],
   "source": []
  },
  {
   "cell_type": "code",
   "execution_count": null,
   "metadata": {},
   "outputs": [],
   "source": []
  },
  {
   "attachments": {},
   "cell_type": "markdown",
   "metadata": {},
   "source": [
    "#### Scratch Code"
   ]
  },
  {
   "cell_type": "code",
   "execution_count": null,
   "metadata": {},
   "outputs": [],
   "source": [
    "cold_email_prompt\n"
   ]
  },
  {
   "cell_type": "code",
   "execution_count": null,
   "metadata": {},
   "outputs": [],
   "source": [
    "\n",
    "full_response = get_gpt_response(prompt=cold_email_prompt)\n",
    "full_response"
   ]
  },
  {
   "cell_type": "code",
   "execution_count": null,
   "metadata": {},
   "outputs": [],
   "source": [
    "str(full_response)"
   ]
  },
  {
   "cell_type": "code",
   "execution_count": null,
   "metadata": {},
   "outputs": [],
   "source": [
    "email_body = full_response['choices'][0]['message']['content']\n",
    "email_body"
   ]
  },
  {
   "cell_type": "code",
   "execution_count": null,
   "metadata": {},
   "outputs": [],
   "source": [
    "subject_line_prompt = f\"\"\"\n",
    "I just wrote a cold outreach email to convince a podcast host to interview me\n",
    "on their show about my unique marketing strategies.\n",
    "Write a subject line with the objective of getting the receiver to open the email\n",
    "and keep reading. \n",
    "Use a fun tone of voice. \n",
    "Please do not include 'SUBJECT:' in the output. \n",
    "Please make the output intriguing and unique. \n",
    "Please make sure the output is at maximum 60 characters\n",
    "Here is the body of the email: \\n{email_body}\\n\\n\n",
    "\"\"\"\n",
    "subject_line_prompt\n",
    "generated_subject = generate_email(subject_line_prompt)\n",
    "generated_subject['choices'][0]['message']['content']"
   ]
  },
  {
   "cell_type": "code",
   "execution_count": null,
   "metadata": {},
   "outputs": [],
   "source": []
  },
  {
   "cell_type": "code",
   "execution_count": null,
   "metadata": {},
   "outputs": [],
   "source": [
    "# copied these prompts from the gsheet to make them easier to templatize\n",
    "subject_line_prompt = (\n",
    "    f\"\"\"\n",
    "    I just wrote a cold outreach email to convince a podcast host to interview me\n",
    "    on their show about my unique marketing strategies.\n",
    "    Write a subject line with the objective of getting the receiver to open the email\n",
    "    and keep reading. Here is the body of the email: \"\" Use a fun tone of voice. \n",
    "    Please do not include 'SUBJECT:' in the output. \n",
    "    Please make the output intriguing and unique. \n",
    "    Please make sure the output is at maximum 60 characters\n",
    "    \"\"\"\n",
    ")\n",
    "cold_email_prompt = (\n",
    "    \"\"\"\n",
    "    I need help writing a cold email to help me get onto a podcast as a guest.\n",
    "    Please exclude the subject line & make sure the output isn't in parenthesis.\n",
    "    The objective of this email is to spark the hosts interest, make me memorable & start a conversation.\n",
    "    Follow best practices for high-converting emails & keep the email to less than 150 words.\n",
    "    Write an initial outreach email to the hosts of this podcast: \",C5, \"\n",
    "    For context to help personalize the email, the description of this podcast is: \",B5,  \"\n",
    "    Please briefly reference something from a recent episode episode so they believe we listened to it.\n",
    "    The title of a recent episode is: \",D5, \"\n",
    "    The description of this episode is: \",E5, \"\n",
    "    Here is an example of an outreach message I've written before: \",F5, \"\n",
    "    Here is a bit more info about me: \",'Client biography'!F5\n",
    "    \"\"\"\n",
    ")"
   ]
  }
 ],
 "metadata": {
  "kernelspec": {
   "display_name": "pod-pitch-venv",
   "language": "python",
   "name": "python3"
  },
  "language_info": {
   "codemirror_mode": {
    "name": "ipython",
    "version": 3
   },
   "file_extension": ".py",
   "mimetype": "text/x-python",
   "name": "python",
   "nbconvert_exporter": "python",
   "pygments_lexer": "ipython3",
   "version": "3.11.0"
  },
  "orig_nbformat": 4
 },
 "nbformat": 4,
 "nbformat_minor": 2
}
